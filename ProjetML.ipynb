{
 "cells": [
  {
   "cell_type": "code",
   "execution_count": 110,
   "id": "88fa0b20-aa35-4f3f-bf79-a9473027959f",
   "metadata": {},
   "outputs": [],
   "source": [
    "import pandas as pd\n",
    "import matplotlib.pyplot as plt\n",
    "from pandas.plotting import scatter_matrix\n",
    "from sklearn.preprocessing import OneHotEncoder\n",
    "from sklearn.model_selection import train_test_split,GridSearchCV\n",
    "from sklearn import tree\n",
    "from sklearn.metrics import accuracy_score\n",
    "from sklearn.model_selection import cross_val_score\n",
    "from sklearn.ensemble import RandomForestClassifier\n",
    "import tensorflow as tf\n",
    "from tensorflow import keras"
   ]
  },
  {
   "cell_type": "markdown",
   "id": "d3bf71fc-e18f-4839-9098-9f128aa95ea5",
   "metadata": {},
   "source": [
    "# 1-Chargement des données\n"
   ]
  },
  {
   "cell_type": "code",
   "execution_count": 20,
   "id": "be9d527f-18ab-4bb6-bd18-7ab573e13c3d",
   "metadata": {},
   "outputs": [],
   "source": [
    "# Chargement de fichier CSV (DataFrame)\n",
    "donnees = pd.read_csv('C:\\\\Users\\\\minou\\\\OneDrive\\\\Bureau\\\\S4\\\\AI\\\\Projet\\\\Hep_C.csv')"
   ]
  },
  {
   "cell_type": "markdown",
   "id": "0afcefee-8652-4d32-92f4-e1271078bd0f",
   "metadata": {},
   "source": [
    "# 2-Exploration des données"
   ]
  },
  {
   "cell_type": "code",
   "execution_count": 21,
   "id": "d5ac105a-22b6-4993-a251-7bf4827947db",
   "metadata": {},
   "outputs": [
    {
     "data": {
      "text/html": [
       "<div>\n",
       "<style scoped>\n",
       "    .dataframe tbody tr th:only-of-type {\n",
       "        vertical-align: middle;\n",
       "    }\n",
       "\n",
       "    .dataframe tbody tr th {\n",
       "        vertical-align: top;\n",
       "    }\n",
       "\n",
       "    .dataframe thead th {\n",
       "        text-align: right;\n",
       "    }\n",
       "</style>\n",
       "<table border=\"1\" class=\"dataframe\">\n",
       "  <thead>\n",
       "    <tr style=\"text-align: right;\">\n",
       "      <th></th>\n",
       "      <th>Age</th>\n",
       "      <th>Sex</th>\n",
       "      <th>ALB</th>\n",
       "      <th>ALP</th>\n",
       "      <th>ALT</th>\n",
       "      <th>AST</th>\n",
       "      <th>BIL</th>\n",
       "      <th>CHE</th>\n",
       "      <th>CHOL</th>\n",
       "      <th>CREA</th>\n",
       "      <th>GGT</th>\n",
       "      <th>PROT</th>\n",
       "      <th>Category</th>\n",
       "    </tr>\n",
       "  </thead>\n",
       "  <tbody>\n",
       "    <tr>\n",
       "      <th>0</th>\n",
       "      <td>32</td>\n",
       "      <td>m</td>\n",
       "      <td>38.5</td>\n",
       "      <td>52.5</td>\n",
       "      <td>7.7</td>\n",
       "      <td>22.1</td>\n",
       "      <td>7.5</td>\n",
       "      <td>6.93</td>\n",
       "      <td>3.23</td>\n",
       "      <td>106.0</td>\n",
       "      <td>12.1</td>\n",
       "      <td>69.0</td>\n",
       "      <td>Blood Donor</td>\n",
       "    </tr>\n",
       "    <tr>\n",
       "      <th>1</th>\n",
       "      <td>32</td>\n",
       "      <td>m</td>\n",
       "      <td>38.5</td>\n",
       "      <td>70.3</td>\n",
       "      <td>18.0</td>\n",
       "      <td>24.7</td>\n",
       "      <td>3.9</td>\n",
       "      <td>11.17</td>\n",
       "      <td>4.80</td>\n",
       "      <td>74.0</td>\n",
       "      <td>15.6</td>\n",
       "      <td>76.5</td>\n",
       "      <td>Blood Donor</td>\n",
       "    </tr>\n",
       "    <tr>\n",
       "      <th>2</th>\n",
       "      <td>32</td>\n",
       "      <td>m</td>\n",
       "      <td>46.9</td>\n",
       "      <td>74.7</td>\n",
       "      <td>36.2</td>\n",
       "      <td>52.6</td>\n",
       "      <td>6.1</td>\n",
       "      <td>8.84</td>\n",
       "      <td>5.20</td>\n",
       "      <td>86.0</td>\n",
       "      <td>33.2</td>\n",
       "      <td>79.3</td>\n",
       "      <td>Blood Donor</td>\n",
       "    </tr>\n",
       "    <tr>\n",
       "      <th>3</th>\n",
       "      <td>32</td>\n",
       "      <td>m</td>\n",
       "      <td>43.2</td>\n",
       "      <td>52.0</td>\n",
       "      <td>30.6</td>\n",
       "      <td>22.6</td>\n",
       "      <td>18.9</td>\n",
       "      <td>7.33</td>\n",
       "      <td>4.74</td>\n",
       "      <td>80.0</td>\n",
       "      <td>33.8</td>\n",
       "      <td>75.7</td>\n",
       "      <td>Blood Donor</td>\n",
       "    </tr>\n",
       "    <tr>\n",
       "      <th>4</th>\n",
       "      <td>32</td>\n",
       "      <td>m</td>\n",
       "      <td>39.2</td>\n",
       "      <td>74.1</td>\n",
       "      <td>32.6</td>\n",
       "      <td>24.8</td>\n",
       "      <td>9.6</td>\n",
       "      <td>9.15</td>\n",
       "      <td>4.32</td>\n",
       "      <td>76.0</td>\n",
       "      <td>29.9</td>\n",
       "      <td>68.7</td>\n",
       "      <td>Blood Donor</td>\n",
       "    </tr>\n",
       "  </tbody>\n",
       "</table>\n",
       "</div>"
      ],
      "text/plain": [
       "   Age Sex   ALB   ALP   ALT   AST   BIL    CHE  CHOL   CREA   GGT  PROT  \\\n",
       "0   32   m  38.5  52.5   7.7  22.1   7.5   6.93  3.23  106.0  12.1  69.0   \n",
       "1   32   m  38.5  70.3  18.0  24.7   3.9  11.17  4.80   74.0  15.6  76.5   \n",
       "2   32   m  46.9  74.7  36.2  52.6   6.1   8.84  5.20   86.0  33.2  79.3   \n",
       "3   32   m  43.2  52.0  30.6  22.6  18.9   7.33  4.74   80.0  33.8  75.7   \n",
       "4   32   m  39.2  74.1  32.6  24.8   9.6   9.15  4.32   76.0  29.9  68.7   \n",
       "\n",
       "      Category  \n",
       "0  Blood Donor  \n",
       "1  Blood Donor  \n",
       "2  Blood Donor  \n",
       "3  Blood Donor  \n",
       "4  Blood Donor  "
      ]
     },
     "execution_count": 21,
     "metadata": {},
     "output_type": "execute_result"
    }
   ],
   "source": [
    "# on utilise donnees.head() pour obtenir un aperçu rapide des premières lignes de DataFrame\n",
    "donnees.head()"
   ]
  },
  {
   "cell_type": "code",
   "execution_count": 22,
   "id": "c542b500-8841-4baa-86d1-74ba20991642",
   "metadata": {},
   "outputs": [
    {
     "data": {
      "text/html": [
       "<div>\n",
       "<style scoped>\n",
       "    .dataframe tbody tr th:only-of-type {\n",
       "        vertical-align: middle;\n",
       "    }\n",
       "\n",
       "    .dataframe tbody tr th {\n",
       "        vertical-align: top;\n",
       "    }\n",
       "\n",
       "    .dataframe thead th {\n",
       "        text-align: right;\n",
       "    }\n",
       "</style>\n",
       "<table border=\"1\" class=\"dataframe\">\n",
       "  <thead>\n",
       "    <tr style=\"text-align: right;\">\n",
       "      <th></th>\n",
       "      <th>Age</th>\n",
       "      <th>Sex</th>\n",
       "      <th>ALB</th>\n",
       "      <th>ALP</th>\n",
       "      <th>ALT</th>\n",
       "      <th>AST</th>\n",
       "      <th>BIL</th>\n",
       "      <th>CHE</th>\n",
       "      <th>CHOL</th>\n",
       "      <th>CREA</th>\n",
       "      <th>GGT</th>\n",
       "      <th>PROT</th>\n",
       "      <th>Category</th>\n",
       "    </tr>\n",
       "  </thead>\n",
       "  <tbody>\n",
       "    <tr>\n",
       "      <th>610</th>\n",
       "      <td>62</td>\n",
       "      <td>f</td>\n",
       "      <td>32.0</td>\n",
       "      <td>416.6</td>\n",
       "      <td>5.9</td>\n",
       "      <td>110.3</td>\n",
       "      <td>50.0</td>\n",
       "      <td>5.57</td>\n",
       "      <td>6.30</td>\n",
       "      <td>55.7</td>\n",
       "      <td>650.9</td>\n",
       "      <td>68.5</td>\n",
       "      <td>Cirrhosis</td>\n",
       "    </tr>\n",
       "    <tr>\n",
       "      <th>611</th>\n",
       "      <td>64</td>\n",
       "      <td>f</td>\n",
       "      <td>24.0</td>\n",
       "      <td>102.8</td>\n",
       "      <td>2.9</td>\n",
       "      <td>44.4</td>\n",
       "      <td>20.0</td>\n",
       "      <td>1.54</td>\n",
       "      <td>3.02</td>\n",
       "      <td>63.0</td>\n",
       "      <td>35.9</td>\n",
       "      <td>71.3</td>\n",
       "      <td>Cirrhosis</td>\n",
       "    </tr>\n",
       "    <tr>\n",
       "      <th>612</th>\n",
       "      <td>64</td>\n",
       "      <td>f</td>\n",
       "      <td>29.0</td>\n",
       "      <td>87.3</td>\n",
       "      <td>3.5</td>\n",
       "      <td>99.0</td>\n",
       "      <td>48.0</td>\n",
       "      <td>1.66</td>\n",
       "      <td>3.63</td>\n",
       "      <td>66.7</td>\n",
       "      <td>64.2</td>\n",
       "      <td>82.0</td>\n",
       "      <td>Cirrhosis</td>\n",
       "    </tr>\n",
       "    <tr>\n",
       "      <th>613</th>\n",
       "      <td>46</td>\n",
       "      <td>f</td>\n",
       "      <td>33.0</td>\n",
       "      <td>NaN</td>\n",
       "      <td>39.0</td>\n",
       "      <td>62.0</td>\n",
       "      <td>20.0</td>\n",
       "      <td>3.56</td>\n",
       "      <td>4.20</td>\n",
       "      <td>52.0</td>\n",
       "      <td>50.0</td>\n",
       "      <td>71.0</td>\n",
       "      <td>Cirrhosis</td>\n",
       "    </tr>\n",
       "    <tr>\n",
       "      <th>614</th>\n",
       "      <td>59</td>\n",
       "      <td>f</td>\n",
       "      <td>36.0</td>\n",
       "      <td>NaN</td>\n",
       "      <td>100.0</td>\n",
       "      <td>80.0</td>\n",
       "      <td>12.0</td>\n",
       "      <td>9.07</td>\n",
       "      <td>5.30</td>\n",
       "      <td>67.0</td>\n",
       "      <td>34.0</td>\n",
       "      <td>68.0</td>\n",
       "      <td>Cirrhosis</td>\n",
       "    </tr>\n",
       "  </tbody>\n",
       "</table>\n",
       "</div>"
      ],
      "text/plain": [
       "     Age Sex   ALB    ALP    ALT    AST   BIL   CHE  CHOL  CREA    GGT  PROT  \\\n",
       "610   62   f  32.0  416.6    5.9  110.3  50.0  5.57  6.30  55.7  650.9  68.5   \n",
       "611   64   f  24.0  102.8    2.9   44.4  20.0  1.54  3.02  63.0   35.9  71.3   \n",
       "612   64   f  29.0   87.3    3.5   99.0  48.0  1.66  3.63  66.7   64.2  82.0   \n",
       "613   46   f  33.0    NaN   39.0   62.0  20.0  3.56  4.20  52.0   50.0  71.0   \n",
       "614   59   f  36.0    NaN  100.0   80.0  12.0  9.07  5.30  67.0   34.0  68.0   \n",
       "\n",
       "      Category  \n",
       "610  Cirrhosis  \n",
       "611  Cirrhosis  \n",
       "612  Cirrhosis  \n",
       "613  Cirrhosis  \n",
       "614  Cirrhosis  "
      ]
     },
     "execution_count": 22,
     "metadata": {},
     "output_type": "execute_result"
    }
   ],
   "source": [
    "# tail() est similaire au haid() mais elle affiche les dernières lignes du DataFrame\n",
    "donnees.tail()"
   ]
  },
  {
   "cell_type": "code",
   "execution_count": 23,
   "id": "93ee57af-0ed3-4f88-baf7-a0402f8325c4",
   "metadata": {},
   "outputs": [
    {
     "name": "stdout",
     "output_type": "stream",
     "text": [
      "<class 'pandas.core.frame.DataFrame'>\n",
      "RangeIndex: 615 entries, 0 to 614\n",
      "Data columns (total 13 columns):\n",
      " #   Column    Non-Null Count  Dtype  \n",
      "---  ------    --------------  -----  \n",
      " 0   Age       615 non-null    int64  \n",
      " 1   Sex       615 non-null    object \n",
      " 2   ALB       614 non-null    float64\n",
      " 3   ALP       597 non-null    float64\n",
      " 4   ALT       614 non-null    float64\n",
      " 5   AST       615 non-null    float64\n",
      " 6   BIL       615 non-null    float64\n",
      " 7   CHE       615 non-null    float64\n",
      " 8   CHOL      605 non-null    float64\n",
      " 9   CREA      615 non-null    float64\n",
      " 10  GGT       615 non-null    float64\n",
      " 11  PROT      614 non-null    float64\n",
      " 12  Category  615 non-null    object \n",
      "dtypes: float64(10), int64(1), object(2)\n",
      "memory usage: 62.6+ KB\n"
     ]
    }
   ],
   "source": [
    "# donnees.info() affiche le nombre de lignes de colonnes et les types de données\n",
    "donnees.info()"
   ]
  },
  {
   "cell_type": "code",
   "execution_count": 24,
   "id": "53aa46c9-0939-47d3-82ac-eff25a025289",
   "metadata": {},
   "outputs": [
    {
     "data": {
      "text/plain": [
       "Category\n",
       "Blood Donor            533\n",
       "Cirrhosis               30\n",
       "Hepatitis               24\n",
       "Fibrosis                21\n",
       "suspect Blood Donor      7\n",
       "Name: count, dtype: int64"
      ]
     },
     "execution_count": 24,
     "metadata": {},
     "output_type": "execute_result"
    }
   ],
   "source": [
    "# ici on a compter les occurrences de chaque valeur de la colonne Category et Sex\n",
    "donnees['Category'].value_counts()"
   ]
  },
  {
   "cell_type": "code",
   "execution_count": 25,
   "id": "013c59aa-6988-4e71-8d3c-1505d0579a2a",
   "metadata": {},
   "outputs": [
    {
     "data": {
      "text/plain": [
       "Sex\n",
       "m    377\n",
       "f    238\n",
       "Name: count, dtype: int64"
      ]
     },
     "execution_count": 25,
     "metadata": {},
     "output_type": "execute_result"
    }
   ],
   "source": [
    "donnees['Sex'].value_counts()"
   ]
  },
  {
   "cell_type": "code",
   "execution_count": 26,
   "id": "a86f772b-6901-4803-9dce-833a3500367a",
   "metadata": {
    "scrolled": true
   },
   "outputs": [
    {
     "data": {
      "text/html": [
       "<div>\n",
       "<style scoped>\n",
       "    .dataframe tbody tr th:only-of-type {\n",
       "        vertical-align: middle;\n",
       "    }\n",
       "\n",
       "    .dataframe tbody tr th {\n",
       "        vertical-align: top;\n",
       "    }\n",
       "\n",
       "    .dataframe thead th {\n",
       "        text-align: right;\n",
       "    }\n",
       "</style>\n",
       "<table border=\"1\" class=\"dataframe\">\n",
       "  <thead>\n",
       "    <tr style=\"text-align: right;\">\n",
       "      <th></th>\n",
       "      <th>Age</th>\n",
       "      <th>ALB</th>\n",
       "      <th>ALP</th>\n",
       "      <th>ALT</th>\n",
       "      <th>AST</th>\n",
       "      <th>BIL</th>\n",
       "      <th>CHE</th>\n",
       "      <th>CHOL</th>\n",
       "      <th>CREA</th>\n",
       "      <th>GGT</th>\n",
       "      <th>PROT</th>\n",
       "    </tr>\n",
       "  </thead>\n",
       "  <tbody>\n",
       "    <tr>\n",
       "      <th>count</th>\n",
       "      <td>615.000000</td>\n",
       "      <td>614.000000</td>\n",
       "      <td>597.000000</td>\n",
       "      <td>614.000000</td>\n",
       "      <td>615.000000</td>\n",
       "      <td>615.000000</td>\n",
       "      <td>615.000000</td>\n",
       "      <td>605.000000</td>\n",
       "      <td>615.000000</td>\n",
       "      <td>615.000000</td>\n",
       "      <td>614.000000</td>\n",
       "    </tr>\n",
       "    <tr>\n",
       "      <th>mean</th>\n",
       "      <td>47.408130</td>\n",
       "      <td>41.620195</td>\n",
       "      <td>68.283920</td>\n",
       "      <td>28.450814</td>\n",
       "      <td>34.786341</td>\n",
       "      <td>11.396748</td>\n",
       "      <td>8.196634</td>\n",
       "      <td>5.368099</td>\n",
       "      <td>81.287805</td>\n",
       "      <td>39.533171</td>\n",
       "      <td>72.044137</td>\n",
       "    </tr>\n",
       "    <tr>\n",
       "      <th>std</th>\n",
       "      <td>10.055105</td>\n",
       "      <td>5.780629</td>\n",
       "      <td>26.028315</td>\n",
       "      <td>25.469689</td>\n",
       "      <td>33.090690</td>\n",
       "      <td>19.673150</td>\n",
       "      <td>2.205657</td>\n",
       "      <td>1.132728</td>\n",
       "      <td>49.756166</td>\n",
       "      <td>54.661071</td>\n",
       "      <td>5.402636</td>\n",
       "    </tr>\n",
       "    <tr>\n",
       "      <th>min</th>\n",
       "      <td>19.000000</td>\n",
       "      <td>14.900000</td>\n",
       "      <td>11.300000</td>\n",
       "      <td>0.900000</td>\n",
       "      <td>10.600000</td>\n",
       "      <td>0.800000</td>\n",
       "      <td>1.420000</td>\n",
       "      <td>1.430000</td>\n",
       "      <td>8.000000</td>\n",
       "      <td>4.500000</td>\n",
       "      <td>44.800000</td>\n",
       "    </tr>\n",
       "    <tr>\n",
       "      <th>25%</th>\n",
       "      <td>39.000000</td>\n",
       "      <td>38.800000</td>\n",
       "      <td>52.500000</td>\n",
       "      <td>16.400000</td>\n",
       "      <td>21.600000</td>\n",
       "      <td>5.300000</td>\n",
       "      <td>6.935000</td>\n",
       "      <td>4.610000</td>\n",
       "      <td>67.000000</td>\n",
       "      <td>15.700000</td>\n",
       "      <td>69.300000</td>\n",
       "    </tr>\n",
       "    <tr>\n",
       "      <th>50%</th>\n",
       "      <td>47.000000</td>\n",
       "      <td>41.950000</td>\n",
       "      <td>66.200000</td>\n",
       "      <td>23.000000</td>\n",
       "      <td>25.900000</td>\n",
       "      <td>7.300000</td>\n",
       "      <td>8.260000</td>\n",
       "      <td>5.300000</td>\n",
       "      <td>77.000000</td>\n",
       "      <td>23.300000</td>\n",
       "      <td>72.200000</td>\n",
       "    </tr>\n",
       "    <tr>\n",
       "      <th>75%</th>\n",
       "      <td>54.000000</td>\n",
       "      <td>45.200000</td>\n",
       "      <td>80.100000</td>\n",
       "      <td>33.075000</td>\n",
       "      <td>32.900000</td>\n",
       "      <td>11.200000</td>\n",
       "      <td>9.590000</td>\n",
       "      <td>6.060000</td>\n",
       "      <td>88.000000</td>\n",
       "      <td>40.200000</td>\n",
       "      <td>75.400000</td>\n",
       "    </tr>\n",
       "    <tr>\n",
       "      <th>max</th>\n",
       "      <td>77.000000</td>\n",
       "      <td>82.200000</td>\n",
       "      <td>416.600000</td>\n",
       "      <td>325.300000</td>\n",
       "      <td>324.000000</td>\n",
       "      <td>254.000000</td>\n",
       "      <td>16.410000</td>\n",
       "      <td>9.670000</td>\n",
       "      <td>1079.100000</td>\n",
       "      <td>650.900000</td>\n",
       "      <td>90.000000</td>\n",
       "    </tr>\n",
       "  </tbody>\n",
       "</table>\n",
       "</div>"
      ],
      "text/plain": [
       "              Age         ALB         ALP         ALT         AST         BIL  \\\n",
       "count  615.000000  614.000000  597.000000  614.000000  615.000000  615.000000   \n",
       "mean    47.408130   41.620195   68.283920   28.450814   34.786341   11.396748   \n",
       "std     10.055105    5.780629   26.028315   25.469689   33.090690   19.673150   \n",
       "min     19.000000   14.900000   11.300000    0.900000   10.600000    0.800000   \n",
       "25%     39.000000   38.800000   52.500000   16.400000   21.600000    5.300000   \n",
       "50%     47.000000   41.950000   66.200000   23.000000   25.900000    7.300000   \n",
       "75%     54.000000   45.200000   80.100000   33.075000   32.900000   11.200000   \n",
       "max     77.000000   82.200000  416.600000  325.300000  324.000000  254.000000   \n",
       "\n",
       "              CHE        CHOL         CREA         GGT        PROT  \n",
       "count  615.000000  605.000000   615.000000  615.000000  614.000000  \n",
       "mean     8.196634    5.368099    81.287805   39.533171   72.044137  \n",
       "std      2.205657    1.132728    49.756166   54.661071    5.402636  \n",
       "min      1.420000    1.430000     8.000000    4.500000   44.800000  \n",
       "25%      6.935000    4.610000    67.000000   15.700000   69.300000  \n",
       "50%      8.260000    5.300000    77.000000   23.300000   72.200000  \n",
       "75%      9.590000    6.060000    88.000000   40.200000   75.400000  \n",
       "max     16.410000    9.670000  1079.100000  650.900000   90.000000  "
      ]
     },
     "execution_count": 26,
     "metadata": {},
     "output_type": "execute_result"
    }
   ],
   "source": [
    "# describe() est utilisée pour obtenir des statistiques descriptives sur les données de notre DataFrame\n",
    "donnees.describe()"
   ]
  },
  {
   "cell_type": "markdown",
   "id": "fef66b6a-047d-40f0-aa5c-61abfff533a0",
   "metadata": {},
   "source": [
    "# 3-Interprétation des resultats"
   ]
  },
  {
   "cell_type": "markdown",
   "id": "8e44f08b-5441-4db7-ae05-51edc07d0742",
   "metadata": {},
   "source": [
    "##### - On constate que le nombre d'hommes est supérieur à celui des femmes de 22.5%.\n",
    "##### - On observe que la catégorie 'Blood Donor' représente la majorité des observations avec 533 individus, tandis que le 'Suspect Blood Donor' représente un faible pourcentage. En ce qui concerne les catégories 'Cirrhosis', 'Hepatitis' et 'Fibrosis', elles ont des valeurs autour de 25.\n",
    "##### - L'âge moyen des individus est d'environ 47 ans.- "
   ]
  },
  {
   "cell_type": "markdown",
   "id": "16fec285-b591-4cc2-a07c-3abdccbf7862",
   "metadata": {},
   "source": [
    "# 4-Visualisation des données"
   ]
  },
  {
   "cell_type": "code",
   "execution_count": 27,
   "id": "7e599e6b-4edb-4161-b0a3-7a3c3f6a895e",
   "metadata": {},
   "outputs": [
    {
     "data": {
      "image/png": "[encoded data removed]",
      "text/plain": [
       "<Figure size 640x480 with 1 Axes>"
      ]
     },
     "metadata": {},
     "output_type": "display_data"
    }
   ],
   "source": [
    "import matplotlib.pyplot as plt\n",
    "\n",
    "# On Groupe les données par sexe et catégorie puis on compte le nombre d'individus dans chaque groupe\n",
    "counts = donnees.groupby(['Sex', 'Category']).size().unstack()\n",
    "# pour mieux interpreter les resultats on a normaliser les valeurs car l'effectif des hommes et plus grands que les femmes)\n",
    "# Normaliser les valeurs pour chaque catégorie (ici on divise chaque valeur de la catégorie par \n",
    "# la somme totale des valeurs de cette catégorie.)\n",
    "counts_normalisé = counts.div(counts.sum(axis=1), axis=0)\n",
    "\n",
    "# Création d'un diagramme en barres empilées avec les valeurs normalisées\n",
    "counts_normalisé.plot(kind='bar', stacked=True)\n",
    "\n",
    "# Ajouter des titres et des libellés\n",
    "plt.title('Catégories en fonction du sexe (valeurs normalisées)')\n",
    "plt.xlabel('Sexe')\n",
    "plt.ylabel('Proportion d\\'individus')\n",
    "\n",
    "plt.show()\n"
   ]
  },
  {
   "cell_type": "markdown",
   "id": "fb4a78d5-8cb5-49c9-9718-2bef877ea6ee",
   "metadata": {},
   "source": [
    "#### Interprétation de diagramme : \n",
    "##### on constate que les femmes ont la catégorie \"Blood Donor\" plus que les hommes et pour les catégories \n",
    "##### \"suspect Blood Donor\" et \"Hepatits\" les hommes ont des valeurs plus au moins elevés que les femmes"
   ]
  },
  {
   "cell_type": "code",
   "execution_count": 28,
   "id": "f2e978f5-75c8-42a8-8dfa-72174a8f9a0f",
   "metadata": {},
   "outputs": [
    {
     "data": {
      "image/png": "[encoded data removed]",
      "text/plain": [
       "<Figure size 640x480 with 1 Axes>"
      ]
     },
     "metadata": {},
     "output_type": "display_data"
    }
   ],
   "source": [
    "# le nombre d'occurrences de chaque catégorie\n",
    "category_counts = donnees['Category'].value_counts()\n",
    "\n",
    "# le diagramme à barres\n",
    "plt.bar(category_counts.index, category_counts.values, color='skyblue')\n",
    "\n",
    "# le titre de diagramme et les axes x et y\n",
    "plt.title('Répartition des catégories')\n",
    "plt.xlabel('Catégorie')\n",
    "plt.ylabel('Nombre d\\'individus')\n",
    "\n",
    "\n",
    "plt.show()\n"
   ]
  },
  {
   "cell_type": "markdown",
   "id": "a477e916-1abe-40f0-813f-7f24bf9cd372",
   "metadata": {},
   "source": [
    "#### Interprétation de Diagramme : \n",
    "##### On observe que la catégorie 'Blood Donor' représente la majorité des observations avec plus de 500 individus, tandis que le 'Suspect Blood Donor' représente un faible pourcentage. En ce qui concerne les catégories 'Cirrhosis', 'Hepatitis' et 'Fibrosis', elles ont des valeurs autour de 25lt.show()\r\n"
   ]
  },
  {
   "cell_type": "code",
   "execution_count": 29,
   "id": "ac946856-c51c-45ec-be80-b6a3cc9a2a2b",
   "metadata": {},
   "outputs": [
    {
     "data": {
      "image/png": "[encoded data removed]",
      "text/plain": [
       "<Figure size 640x480 with 1 Axes>"
      ]
     },
     "metadata": {},
     "output_type": "display_data"
    }
   ],
   "source": [
    "age = donnees['Age']\n",
    "categorie = donnees['Category']\n",
    "\n",
    "# on va compter le nombre d'individus de chaque catégorie pour chaque sexe\n",
    "counts = donnees.groupby(['Age', 'Category']).size().unstack()\n",
    "\n",
    "# diagramme en barres empilées\n",
    "counts.plot(kind='bar', stacked=True)\n",
    "\n",
    "# le titre de diagramme et les axes x et y\n",
    "plt.title('Catégories en fonction d\\'Age')\n",
    "plt.xlabel('Age')\n",
    "plt.ylabel('Nombre d\\'individus')\n",
    "\n",
    "plt.show()"
   ]
  },
  {
   "cell_type": "markdown",
   "id": "249747df-d970-440e-8899-2e93e09f2819",
   "metadata": {},
   "source": [
    "#### Interprétation de diagramme :\n",
    "##### d'après le diagamme on constate que la tranche d'age entre 19-30 se caractérise par 'Hepatitis' et d'aprés l'age 47 on constate la présence de la catégorie 'suspect Blood Donor'."
   ]
  },
  {
   "cell_type": "code",
   "execution_count": 30,
   "id": "9af60940-7f7f-422b-a52a-58ed52c3b2b6",
   "metadata": {},
   "outputs": [
    {
     "data": {
      "image/png": "[encoded data removed]",
      "text/plain": [
       "<Figure size 1200x800 with 1 Axes>"
      ]
     },
     "metadata": {},
     "output_type": "display_data"
    }
   ],
   "source": [
    "# On calcule la moyenne des valeurs de chaque facteur de laboratoire pour chaque catégorie\n",
    "lab_facteur_moyen = donnees.groupby('Category')[['ALB', 'ALP', 'ALT', 'AST', 'BIL', 'CHE', 'CHOL', 'CREA', 'GGT', 'PROT']].mean()\n",
    "\n",
    "# On fait la transposer les données pour faciliter le tracé \n",
    "# (pour mettre les valeurs moyennes en tant que colonnes et les facteurs de laboratoire en tant que lignes)\n",
    "lab_facteur_moyen = lab_facteur_moyen.T\n",
    "\n",
    "# diagramme en barres groupées pour chaque catégorie\n",
    "lab_facteur_moyen.plot(kind='bar', figsize=(12, 8))\n",
    "\n",
    "# le titre de diagramme et les axes x et y\n",
    "plt.title('Influence des facteurs de laboratoire sur les différentes catégories')\n",
    "plt.xlabel('Facteur de laboratoire')\n",
    "plt.ylabel('Valeur moyenne')\n",
    "plt.legend(title='Catégorie')\n",
    "\n",
    "\n",
    "plt.show()\n"
   ]
  },
  {
   "cell_type": "markdown",
   "id": "b7bf2aab-6724-4787-aa37-1cb8437ed963",
   "metadata": {},
   "source": [
    "#### Interprétation de diagramme :\n",
    "##### Pour la catégorie Cirrhosis on constate que les enzymes AST, CREA et GGT atteint des valeurs inportants donc on peut conclure  que ces l'augmentations de ces enzymes sont responsables de la Cirrhosis de meme pour le 'suspect Blood Donor' est controlé par les enzymes ALP, ALT et GGT."
   ]
  },
  {
   "cell_type": "markdown",
   "id": "15275cb1-2d3a-4d06-a3d9-a127389f9338",
   "metadata": {},
   "source": [
    "# 6-Nettoyage des données"
   ]
  },
  {
   "cell_type": "markdown",
   "id": "4d1df8aa-c512-46f5-80f9-55b560ad14a8",
   "metadata": {},
   "source": [
    "##### J'ai commencé par tracer un diagramme pour avoir une idée des colonnes contenant des valeurs nulles et du nombre de valeurs nulles pour chaque colonne."
   ]
  },
  {
   "cell_type": "code",
   "execution_count": 31,
   "id": "7217b7d4-2211-43c1-875a-0d1aac9899d7",
   "metadata": {},
   "outputs": [
    {
     "data": {
      "image/png": "[encoded data removed]",
      "text/plain": [
       "<Figure size 1000x500 with 1 Axes>"
      ]
     },
     "metadata": {},
     "output_type": "display_data"
    }
   ],
   "source": [
    "plt.figure(figsize=(10, 5))\n",
    "# Tracage d'un graphe à barres montrant le nombre de valeurs nulles par colonne\n",
    "donnees.isnull().sum().plot(kind='bar')\n",
    "# titre du graphe\n",
    "plt.title('Nombre de valeurs nulles par colonne')\n",
    "# Ajout des étiquettes de l'axe x et de l'axe y\n",
    "plt.xlabel('Attributs')\n",
    "plt.ylabel('Nombre de valeurs nulles')\n",
    "plt.show()\n"
   ]
  },
  {
   "cell_type": "markdown",
   "id": "3e255e16-8817-4e51-a219-9560f2544b9e",
   "metadata": {},
   "source": [
    "##### Pour la phase de Nettoyage des données\n",
    "###### Si les valeurs nulles sont excessives dans une colonne, une option est de supprimer la colonne entière. De même, si un enregistrement contient plusieurs valeurs nulles, il est possible de supprimer toute la ligne correspondante. Cependant, dans la plupart des cas, la méthode la plus courante consiste à remplacer les valeurs manquantes par zéro, la moyenne ou la médiane des valeurs existantes dans la même colonne."
   ]
  },
  {
   "cell_type": "code",
   "execution_count": 32,
   "id": "315349fb-4639-408a-ba0f-90c7e904136e",
   "metadata": {},
   "outputs": [],
   "source": [
    "# on a remplit les valeurs nulles dans le DataFrame en utilisant la moyenne de chaque colonne,\n",
    "# en excluant les colonnes non numériques lors du calcul de la moyenne (Age, Category).\n",
    "donnees = donnees.fillna(donnees.mean(numeric_only=True))\n"
   ]
  },
  {
   "cell_type": "markdown",
   "id": "3be94118-06b2-4142-bf94-2f49733e1b7b",
   "metadata": {},
   "source": [
    "# 7-Traitement des données catégorielles ou symboliques\n"
   ]
  },
  {
   "cell_type": "markdown",
   "id": "4281d369-fa31-400d-bc3a-a8a60c6a3fbf",
   "metadata": {},
   "source": [
    "##### On va utiliser L'encodage one-hot pour la colonne 'category' qui consiste à représenter chaque catégorie unique d'une variable catégorielle par une variable binaire distincte, où chaque variable binaire indique la présence ou l'absence de la catégorie dans un échantillon donné."
   ]
  },
  {
   "cell_type": "code",
   "execution_count": 33,
   "id": "ca38c31e-35d6-4c8a-805e-bcc7af818eb8",
   "metadata": {},
   "outputs": [
    {
     "data": {
      "text/plain": [
       "array([[1., 0., 0., 0., 0.],\n",
       "       [1., 0., 0., 0., 0.],\n",
       "       [1., 0., 0., 0., 0.],\n",
       "       ...,\n",
       "       [0., 1., 0., 0., 0.],\n",
       "       [0., 1., 0., 0., 0.],\n",
       "       [0., 1., 0., 0., 0.]])"
      ]
     },
     "execution_count": 33,
     "metadata": {},
     "output_type": "execute_result"
    }
   ],
   "source": [
    "# on Crée une instance de OneHotEncoder\n",
    "onehot_encoder = OneHotEncoder()\n",
    "# on extrait la colonne category\n",
    "donnees_category = donnees[['Category']]\n",
    "# on transforme les données avec OneHotEncoder\n",
    "donnees_encodées = onehot_encoder.fit_transform(donnees_category)\n",
    "donnees = pd.concat([donnees, pd.DataFrame(donnees_encodées.toarray())], axis=1)  # Concaténer les données encodées\n",
    "donnees_encodées.toarray()"
   ]
  },
  {
   "cell_type": "markdown",
   "id": "38d69424-a1cc-4ce2-8ae6-61f03339c997",
   "metadata": {},
   "source": [
    "##### pour la colonne sexe on va utiliser une transformation binaire où par exemple 'm' est encodé en 0 et 'f' est encodé en 1."
   ]
  },
  {
   "cell_type": "code",
   "execution_count": 34,
   "id": "cf04ed9c-bc82-4e22-a090-6e38708b6acb",
   "metadata": {},
   "outputs": [
    {
     "name": "stdout",
     "output_type": "stream",
     "text": [
      "     Age  Sex   ALB        ALP    ALT    AST   BIL    CHE  CHOL   CREA    GGT  \\\n",
      "0     32    0  38.5   52.50000    7.7   22.1   7.5   6.93  3.23  106.0   12.1   \n",
      "1     32    0  38.5   70.30000   18.0   24.7   3.9  11.17  4.80   74.0   15.6   \n",
      "2     32    0  46.9   74.70000   36.2   52.6   6.1   8.84  5.20   86.0   33.2   \n",
      "3     32    0  43.2   52.00000   30.6   22.6  18.9   7.33  4.74   80.0   33.8   \n",
      "4     32    0  39.2   74.10000   32.6   24.8   9.6   9.15  4.32   76.0   29.9   \n",
      "..   ...  ...   ...        ...    ...    ...   ...    ...   ...    ...    ...   \n",
      "610   62    1  32.0  416.60000    5.9  110.3  50.0   5.57  6.30   55.7  650.9   \n",
      "611   64    1  24.0  102.80000    2.9   44.4  20.0   1.54  3.02   63.0   35.9   \n",
      "612   64    1  29.0   87.30000    3.5   99.0  48.0   1.66  3.63   66.7   64.2   \n",
      "613   46    1  33.0   68.28392   39.0   62.0  20.0   3.56  4.20   52.0   50.0   \n",
      "614   59    1  36.0   68.28392  100.0   80.0  12.0   9.07  5.30   67.0   34.0   \n",
      "\n",
      "     PROT     Category    0    1    2    3    4  \n",
      "0    69.0  Blood Donor  1.0  0.0  0.0  0.0  0.0  \n",
      "1    76.5  Blood Donor  1.0  0.0  0.0  0.0  0.0  \n",
      "2    79.3  Blood Donor  1.0  0.0  0.0  0.0  0.0  \n",
      "3    75.7  Blood Donor  1.0  0.0  0.0  0.0  0.0  \n",
      "4    68.7  Blood Donor  1.0  0.0  0.0  0.0  0.0  \n",
      "..    ...          ...  ...  ...  ...  ...  ...  \n",
      "610  68.5    Cirrhosis  0.0  1.0  0.0  0.0  0.0  \n",
      "611  71.3    Cirrhosis  0.0  1.0  0.0  0.0  0.0  \n",
      "612  82.0    Cirrhosis  0.0  1.0  0.0  0.0  0.0  \n",
      "613  71.0    Cirrhosis  0.0  1.0  0.0  0.0  0.0  \n",
      "614  68.0    Cirrhosis  0.0  1.0  0.0  0.0  0.0  \n",
      "\n",
      "[615 rows x 18 columns]\n"
     ]
    }
   ],
   "source": [
    "# on va utiliser  la fonction map pour transformer 'm' en 0 et 'f' en 1\n",
    "donnees['Sex'] = donnees['Sex'].map({'m': 0, 'f': 1})\n",
    "# l'affichage des données aprés transformation\n",
    "print(donnees)\n"
   ]
  },
  {
   "cell_type": "markdown",
   "id": "83c049e2-bdd3-41e4-b136-d341b742c5ee",
   "metadata": {},
   "source": [
    "# 8-Séparation des données en un ensemble d'entrainement et de test"
   ]
  },
  {
   "cell_type": "code",
   "execution_count": 51,
   "id": "d8be1b6c-ed16-4eab-ba86-dbd101129292",
   "metadata": {},
   "outputs": [],
   "source": [
    "X = donnees.drop('Category', axis=1)  # Caractéristiques (toutes les colonnes sauf 'Category')\n",
    "y = donnees['Category']  # Variable cible ('Category')\n",
    "\n",
    "# Diviser les données en ensembles d'entraînement et de test\n",
    "X_train, X_test, y_train, y_test = train_test_split(X, y, test_size=0.2, random_state=42)"
   ]
  },
  {
   "cell_type": "code",
   "execution_count": 52,
   "id": "f522a92c-1f4c-47b4-b1b5-a3fb1afc99e2",
   "metadata": {},
   "outputs": [
    {
     "data": {
      "text/plain": [
       "83     Blood Donor\n",
       "90     Blood Donor\n",
       "228    Blood Donor\n",
       "509    Blood Donor\n",
       "329    Blood Donor\n",
       "          ...     \n",
       "71     Blood Donor\n",
       "106    Blood Donor\n",
       "270    Blood Donor\n",
       "435    Blood Donor\n",
       "102    Blood Donor\n",
       "Name: Category, Length: 492, dtype: object"
      ]
     },
     "execution_count": 52,
     "metadata": {},
     "output_type": "execute_result"
    }
   ],
   "source": [
    "X_train\n",
    "y_train"
   ]
  },
  {
   "cell_type": "markdown",
   "id": "e231bad0-9fef-431a-a394-8e5c70539b5d",
   "metadata": {},
   "source": [
    "# 9-Arbre de décision "
   ]
  },
  {
   "cell_type": "code",
   "execution_count": 54,
   "id": "00811752-ce88-49d2-b57c-723e8f0f9fc2",
   "metadata": {},
   "outputs": [
    {
     "data": {
      "text/html": [
       "<style>#sk-container-id-8 {\n",
       "  /* Definition of color scheme common for light and dark mode */\n",
       "  --sklearn-color-text: black;\n",
       "  --sklearn-color-line: gray;\n",
       "  /* Definition of color scheme for unfitted estimators */\n",
       "  --sklearn-color-unfitted-level-0: #fff5e6;\n",
       "  --sklearn-color-unfitted-level-1: #f6e4d2;\n",
       "  --sklearn-color-unfitted-level-2: #ffe0b3;\n",
       "  --sklearn-color-unfitted-level-3: chocolate;\n",
       "  /* Definition of color scheme for fitted estimators */\n",
       "  --sklearn-color-fitted-level-0: #f0f8ff;\n",
       "  --sklearn-color-fitted-level-1: #d4ebff;\n",
       "  --sklearn-color-fitted-level-2: #b3dbfd;\n",
       "  --sklearn-color-fitted-level-3: cornflowerblue;\n",
       "\n",
       "  /* Specific color for light theme */\n",
       "  --sklearn-color-text-on-default-background: var(--sg-text-color, var(--theme-code-foreground, var(--jp-content-font-color1, black)));\n",
       "  --sklearn-color-background: var(--sg-background-color, var(--theme-background, var(--jp-layout-color0, white)));\n",
       "  --sklearn-color-border-box: var(--sg-text-color, var(--theme-code-foreground, var(--jp-content-font-color1, black)));\n",
       "  --sklearn-color-icon: #696969;\n",
       "\n",
       "  @media (prefers-color-scheme: dark) {\n",
       "    /* Redefinition of color scheme for dark theme */\n",
       "    --sklearn-color-text-on-default-background: var(--sg-text-color, var(--theme-code-foreground, var(--jp-content-font-color1, white)));\n",
       "    --sklearn-color-background: var(--sg-background-color, var(--theme-background, var(--jp-layout-color0, #111)));\n",
       "    --sklearn-color-border-box: var(--sg-text-color, var(--theme-code-foreground, var(--jp-content-font-color1, white)));\n",
       "    --sklearn-color-icon: #878787;\n",
       "  }\n",
       "}\n",
       "\n",
       "#sk-container-id-8 {\n",
       "  color: var(--sklearn-color-text);\n",
       "}\n",
       "\n",
       "#sk-container-id-8 pre {\n",
       "  padding: 0;\n",
       "}\n",
       "\n",
       "#sk-container-id-8 input.sk-hidden--visually {\n",
       "  border: 0;\n",
       "  clip: rect(1px 1px 1px 1px);\n",
       "  clip: rect(1px, 1px, 1px, 1px);\n",
       "  height: 1px;\n",
       "  margin: -1px;\n",
       "  overflow: hidden;\n",
       "  padding: 0;\n",
       "  position: absolute;\n",
       "  width: 1px;\n",
       "}\n",
       "\n",
       "#sk-container-id-8 div.sk-dashed-wrapped {\n",
       "  border: 1px dashed var(--sklearn-color-line);\n",
       "  margin: 0 0.4em 0.5em 0.4em;\n",
       "  box-sizing: border-box;\n",
       "  padding-bottom: 0.4em;\n",
       "  background-color: var(--sklearn-color-background);\n",
       "}\n",
       "\n",
       "#sk-container-id-8 div.sk-container {\n",
       "  /* jupyter's `normalize.less` sets `[hidden] { display: none; }`\n",
       "     but bootstrap.min.css set `[hidden] { display: none !important; }`\n",
       "     so we also need the `!important` here to be able to override the\n",
       "     default hidden behavior on the sphinx rendered scikit-learn.org.\n",
       "     See: https://github.com/scikit-learn/scikit-learn/issues/21755 */\n",
       "  display: inline-block !important;\n",
       "  position: relative;\n",
       "}\n",
       "\n",
       "#sk-container-id-8 div.sk-text-repr-fallback {\n",
       "  display: none;\n",
       "}\n",
       "\n",
       "div.sk-parallel-item,\n",
       "div.sk-serial,\n",
       "div.sk-item {\n",
       "  /* draw centered vertical line to link estimators */\n",
       "  background-image: linear-gradient(var(--sklearn-color-text-on-default-background), var(--sklearn-color-text-on-default-background));\n",
       "  background-size: 2px 100%;\n",
       "  background-repeat: no-repeat;\n",
       "  background-position: center center;\n",
       "}\n",
       "\n",
       "/* Parallel-specific style estimator block */\n",
       "\n",
       "#sk-container-id-8 div.sk-parallel-item::after {\n",
       "  content: \"\";\n",
       "  width: 100%;\n",
       "  border-bottom: 2px solid var(--sklearn-color-text-on-default-background);\n",
       "  flex-grow: 1;\n",
       "}\n",
       "\n",
       "#sk-container-id-8 div.sk-parallel {\n",
       "  display: flex;\n",
       "  align-items: stretch;\n",
       "  justify-content: center;\n",
       "  background-color: var(--sklearn-color-background);\n",
       "  position: relative;\n",
       "}\n",
       "\n",
       "#sk-container-id-8 div.sk-parallel-item {\n",
       "  display: flex;\n",
       "  flex-direction: column;\n",
       "}\n",
       "\n",
       "#sk-container-id-8 div.sk-parallel-item:first-child::after {\n",
       "  align-self: flex-end;\n",
       "  width: 50%;\n",
       "}\n",
       "\n",
       "#sk-container-id-8 div.sk-parallel-item:last-child::after {\n",
       "  align-self: flex-start;\n",
       "  width: 50%;\n",
       "}\n",
       "\n",
       "#sk-container-id-8 div.sk-parallel-item:only-child::after {\n",
       "  width: 0;\n",
       "}\n",
       "\n",
       "/* Serial-specific style estimator block */\n",
       "\n",
       "#sk-container-id-8 div.sk-serial {\n",
       "  display: flex;\n",
       "  flex-direction: column;\n",
       "  align-items: center;\n",
       "  background-color: var(--sklearn-color-background);\n",
       "  padding-right: 1em;\n",
       "  padding-left: 1em;\n",
       "}\n",
       "\n",
       "\n",
       "/* Toggleable style: style used for estimator/Pipeline/ColumnTransformer box that is\n",
       "clickable and can be expanded/collapsed.\n",
       "- Pipeline and ColumnTransformer use this feature and define the default style\n",
       "- Estimators will overwrite some part of the style using the `sk-estimator` class\n",
       "*/\n",
       "\n",
       "/* Pipeline and ColumnTransformer style (default) */\n",
       "\n",
       "#sk-container-id-8 div.sk-toggleable {\n",
       "  /* Default theme specific background. It is overwritten whether we have a\n",
       "  specific estimator or a Pipeline/ColumnTransformer */\n",
       "  background-color: var(--sklearn-color-background);\n",
       "}\n",
       "\n",
       "/* Toggleable label */\n",
       "#sk-container-id-8 label.sk-toggleable__label {\n",
       "  cursor: pointer;\n",
       "  display: block;\n",
       "  width: 100%;\n",
       "  margin-bottom: 0;\n",
       "  padding: 0.5em;\n",
       "  box-sizing: border-box;\n",
       "  text-align: center;\n",
       "}\n",
       "\n",
       "#sk-container-id-8 label.sk-toggleable__label-arrow:before {\n",
       "  /* Arrow on the left of the label */\n",
       "  content: \"▸\";\n",
       "  float: left;\n",
       "  margin-right: 0.25em;\n",
       "  color: var(--sklearn-color-icon);\n",
       "}\n",
       "\n",
       "#sk-container-id-8 label.sk-toggleable__label-arrow:hover:before {\n",
       "  color: var(--sklearn-color-text);\n",
       "}\n",
       "\n",
       "/* Toggleable content - dropdown */\n",
       "\n",
       "#sk-container-id-8 div.sk-toggleable__content {\n",
       "  max-height: 0;\n",
       "  max-width: 0;\n",
       "  overflow: hidden;\n",
       "  text-align: left;\n",
       "  /* unfitted */\n",
       "  background-color: var(--sklearn-color-unfitted-level-0);\n",
       "}\n",
       "\n",
       "#sk-container-id-8 div.sk-toggleable__content.fitted {\n",
       "  /* fitted */\n",
       "  background-color: var(--sklearn-color-fitted-level-0);\n",
       "}\n",
       "\n",
       "#sk-container-id-8 div.sk-toggleable__content pre {\n",
       "  margin: 0.2em;\n",
       "  border-radius: 0.25em;\n",
       "  color: var(--sklearn-color-text);\n",
       "  /* unfitted */\n",
       "  background-color: var(--sklearn-color-unfitted-level-0);\n",
       "}\n",
       "\n",
       "#sk-container-id-8 div.sk-toggleable__content.fitted pre {\n",
       "  /* unfitted */\n",
       "  background-color: var(--sklearn-color-fitted-level-0);\n",
       "}\n",
       "\n",
       "#sk-container-id-8 input.sk-toggleable__control:checked~div.sk-toggleable__content {\n",
       "  /* Expand drop-down */\n",
       "  max-height: 200px;\n",
       "  max-width: 100%;\n",
       "  overflow: auto;\n",
       "}\n",
       "\n",
       "#sk-container-id-8 input.sk-toggleable__control:checked~label.sk-toggleable__label-arrow:before {\n",
       "  content: \"▾\";\n",
       "}\n",
       "\n",
       "/* Pipeline/ColumnTransformer-specific style */\n",
       "\n",
       "#sk-container-id-8 div.sk-label input.sk-toggleable__control:checked~label.sk-toggleable__label {\n",
       "  color: var(--sklearn-color-text);\n",
       "  background-color: var(--sklearn-color-unfitted-level-2);\n",
       "}\n",
       "\n",
       "#sk-container-id-8 div.sk-label.fitted input.sk-toggleable__control:checked~label.sk-toggleable__label {\n",
       "  background-color: var(--sklearn-color-fitted-level-2);\n",
       "}\n",
       "\n",
       "/* Estimator-specific style */\n",
       "\n",
       "/* Colorize estimator box */\n",
       "#sk-container-id-8 div.sk-estimator input.sk-toggleable__control:checked~label.sk-toggleable__label {\n",
       "  /* unfitted */\n",
       "  background-color: var(--sklearn-color-unfitted-level-2);\n",
       "}\n",
       "\n",
       "#sk-container-id-8 div.sk-estimator.fitted input.sk-toggleable__control:checked~label.sk-toggleable__label {\n",
       "  /* fitted */\n",
       "  background-color: var(--sklearn-color-fitted-level-2);\n",
       "}\n",
       "\n",
       "#sk-container-id-8 div.sk-label label.sk-toggleable__label,\n",
       "#sk-container-id-8 div.sk-label label {\n",
       "  /* The background is the default theme color */\n",
       "  color: var(--sklearn-color-text-on-default-background);\n",
       "}\n",
       "\n",
       "/* On hover, darken the color of the background */\n",
       "#sk-container-id-8 div.sk-label:hover label.sk-toggleable__label {\n",
       "  color: var(--sklearn-color-text);\n",
       "  background-color: var(--sklearn-color-unfitted-level-2);\n",
       "}\n",
       "\n",
       "/* Label box, darken color on hover, fitted */\n",
       "#sk-container-id-8 div.sk-label.fitted:hover label.sk-toggleable__label.fitted {\n",
       "  color: var(--sklearn-color-text);\n",
       "  background-color: var(--sklearn-color-fitted-level-2);\n",
       "}\n",
       "\n",
       "/* Estimator label */\n",
       "\n",
       "#sk-container-id-8 div.sk-label label {\n",
       "  font-family: monospace;\n",
       "  font-weight: bold;\n",
       "  display: inline-block;\n",
       "  line-height: 1.2em;\n",
       "}\n",
       "\n",
       "#sk-container-id-8 div.sk-label-container {\n",
       "  text-align: center;\n",
       "}\n",
       "\n",
       "/* Estimator-specific */\n",
       "#sk-container-id-8 div.sk-estimator {\n",
       "  font-family: monospace;\n",
       "  border: 1px dotted var(--sklearn-color-border-box);\n",
       "  border-radius: 0.25em;\n",
       "  box-sizing: border-box;\n",
       "  margin-bottom: 0.5em;\n",
       "  /* unfitted */\n",
       "  background-color: var(--sklearn-color-unfitted-level-0);\n",
       "}\n",
       "\n",
       "#sk-container-id-8 div.sk-estimator.fitted {\n",
       "  /* fitted */\n",
       "  background-color: var(--sklearn-color-fitted-level-0);\n",
       "}\n",
       "\n",
       "/* on hover */\n",
       "#sk-container-id-8 div.sk-estimator:hover {\n",
       "  /* unfitted */\n",
       "  background-color: var(--sklearn-color-unfitted-level-2);\n",
       "}\n",
       "\n",
       "#sk-container-id-8 div.sk-estimator.fitted:hover {\n",
       "  /* fitted */\n",
       "  background-color: var(--sklearn-color-fitted-level-2);\n",
       "}\n",
       "\n",
       "/* Specification for estimator info (e.g. \"i\" and \"?\") */\n",
       "\n",
       "/* Common style for \"i\" and \"?\" */\n",
       "\n",
       ".sk-estimator-doc-link,\n",
       "a:link.sk-estimator-doc-link,\n",
       "a:visited.sk-estimator-doc-link {\n",
       "  float: right;\n",
       "  font-size: smaller;\n",
       "  line-height: 1em;\n",
       "  font-family: monospace;\n",
       "  background-color: var(--sklearn-color-background);\n",
       "  border-radius: 1em;\n",
       "  height: 1em;\n",
       "  width: 1em;\n",
       "  text-decoration: none !important;\n",
       "  margin-left: 1ex;\n",
       "  /* unfitted */\n",
       "  border: var(--sklearn-color-unfitted-level-1) 1pt solid;\n",
       "  color: var(--sklearn-color-unfitted-level-1);\n",
       "}\n",
       "\n",
       ".sk-estimator-doc-link.fitted,\n",
       "a:link.sk-estimator-doc-link.fitted,\n",
       "a:visited.sk-estimator-doc-link.fitted {\n",
       "  /* fitted */\n",
       "  border: var(--sklearn-color-fitted-level-1) 1pt solid;\n",
       "  color: var(--sklearn-color-fitted-level-1);\n",
       "}\n",
       "\n",
       "/* On hover */\n",
       "div.sk-estimator:hover .sk-estimator-doc-link:hover,\n",
       ".sk-estimator-doc-link:hover,\n",
       "div.sk-label-container:hover .sk-estimator-doc-link:hover,\n",
       ".sk-estimator-doc-link:hover {\n",
       "  /* unfitted */\n",
       "  background-color: var(--sklearn-color-unfitted-level-3);\n",
       "  color: var(--sklearn-color-background);\n",
       "  text-decoration: none;\n",
       "}\n",
       "\n",
       "div.sk-estimator.fitted:hover .sk-estimator-doc-link.fitted:hover,\n",
       ".sk-estimator-doc-link.fitted:hover,\n",
       "div.sk-label-container:hover .sk-estimator-doc-link.fitted:hover,\n",
       ".sk-estimator-doc-link.fitted:hover {\n",
       "  /* fitted */\n",
       "  background-color: var(--sklearn-color-fitted-level-3);\n",
       "  color: var(--sklearn-color-background);\n",
       "  text-decoration: none;\n",
       "}\n",
       "\n",
       "/* Span, style for the box shown on hovering the info icon */\n",
       ".sk-estimator-doc-link span {\n",
       "  display: none;\n",
       "  z-index: 9999;\n",
       "  position: relative;\n",
       "  font-weight: normal;\n",
       "  right: .2ex;\n",
       "  padding: .5ex;\n",
       "  margin: .5ex;\n",
       "  width: min-content;\n",
       "  min-width: 20ex;\n",
       "  max-width: 50ex;\n",
       "  color: var(--sklearn-color-text);\n",
       "  box-shadow: 2pt 2pt 4pt #999;\n",
       "  /* unfitted */\n",
       "  background: var(--sklearn-color-unfitted-level-0);\n",
       "  border: .5pt solid var(--sklearn-color-unfitted-level-3);\n",
       "}\n",
       "\n",
       ".sk-estimator-doc-link.fitted span {\n",
       "  /* fitted */\n",
       "  background: var(--sklearn-color-fitted-level-0);\n",
       "  border: var(--sklearn-color-fitted-level-3);\n",
       "}\n",
       "\n",
       ".sk-estimator-doc-link:hover span {\n",
       "  display: block;\n",
       "}\n",
       "\n",
       "/* \"?\"-specific style due to the `<a>` HTML tag */\n",
       "\n",
       "#sk-container-id-8 a.estimator_doc_link {\n",
       "  float: right;\n",
       "  font-size: 1rem;\n",
       "  line-height: 1em;\n",
       "  font-family: monospace;\n",
       "  background-color: var(--sklearn-color-background);\n",
       "  border-radius: 1rem;\n",
       "  height: 1rem;\n",
       "  width: 1rem;\n",
       "  text-decoration: none;\n",
       "  /* unfitted */\n",
       "  color: var(--sklearn-color-unfitted-level-1);\n",
       "  border: var(--sklearn-color-unfitted-level-1) 1pt solid;\n",
       "}\n",
       "\n",
       "#sk-container-id-8 a.estimator_doc_link.fitted {\n",
       "  /* fitted */\n",
       "  border: var(--sklearn-color-fitted-level-1) 1pt solid;\n",
       "  color: var(--sklearn-color-fitted-level-1);\n",
       "}\n",
       "\n",
       "/* On hover */\n",
       "#sk-container-id-8 a.estimator_doc_link:hover {\n",
       "  /* unfitted */\n",
       "  background-color: var(--sklearn-color-unfitted-level-3);\n",
       "  color: var(--sklearn-color-background);\n",
       "  text-decoration: none;\n",
       "}\n",
       "\n",
       "#sk-container-id-8 a.estimator_doc_link.fitted:hover {\n",
       "  /* fitted */\n",
       "  background-color: var(--sklearn-color-fitted-level-3);\n",
       "}\n",
       "</style><div id=\"sk-container-id-8\" class=\"sk-top-container\"><div class=\"sk-text-repr-fallback\"><pre>DecisionTreeClassifier(criterion=&#x27;entropy&#x27;, max_depth=2)</pre><b>In a Jupyter environment, please rerun this cell to show the HTML representation or trust the notebook. <br />On GitHub, the HTML representation is unable to render, please try loading this page with nbviewer.org.</b></div><div class=\"sk-container\" hidden><div class=\"sk-item\"><div class=\"sk-estimator fitted sk-toggleable\"><input class=\"sk-toggleable__control sk-hidden--visually\" id=\"sk-estimator-id-8\" type=\"checkbox\" checked><label for=\"sk-estimator-id-8\" class=\"sk-toggleable__label fitted sk-toggleable__label-arrow fitted\">&nbsp;&nbsp;DecisionTreeClassifier<a class=\"sk-estimator-doc-link fitted\" rel=\"noreferrer\" target=\"_blank\" href=\"https://scikit-learn.org/1.4/modules/generated/sklearn.tree.DecisionTreeClassifier.html\">?<span>Documentation for DecisionTreeClassifier</span></a><span class=\"sk-estimator-doc-link fitted\">i<span>Fitted</span></span></label><div class=\"sk-toggleable__content fitted\"><pre>DecisionTreeClassifier(criterion=&#x27;entropy&#x27;, max_depth=2)</pre></div> </div></div></div></div>"
      ],
      "text/plain": [
       "DecisionTreeClassifier(criterion='entropy', max_depth=2)"
      ]
     },
     "execution_count": 54,
     "metadata": {},
     "output_type": "execute_result"
    }
   ],
   "source": [
    "# On crée une instance de DecisionTreeClassifier\n",
    "tree_clf = tree.DecisionTreeClassifier(max_depth = 2, criterion = \"entropy\")\n",
    "X_train.columns = X_train.columns.astype(str)\n",
    "# l'entraînement de modèle \n",
    "tree_clf.fit(X_train, y_train)"
   ]
  },
  {
   "cell_type": "markdown",
   "id": "dcecdb64-356f-4206-a6c6-205d8187d69e",
   "metadata": {},
   "source": [
    "# 10-Visualiser l'arbre"
   ]
  },
  {
   "cell_type": "code",
   "execution_count": 55,
   "id": "2258f0b1-ce01-417f-976b-925a306e6856",
   "metadata": {},
   "outputs": [
    {
     "data": {
      "text/plain": [
       "[Text(0.6, 0.8333333333333334, 'x[12] <= 0.5\\nentropy = 0.71\\nsamples = 492\\nvalue = [437, 21, 15, 15, 4]'),\n",
       " Text(0.4, 0.5, 'x[13] <= 0.5\\nentropy = 1.828\\nsamples = 55\\nvalue = [0.0, 21.0, 15.0, 15.0, 4.0]'),\n",
       " Text(0.2, 0.16666666666666666, 'entropy = 1.405\\nsamples = 34\\nvalue = [0, 0, 15, 15, 4]'),\n",
       " Text(0.6, 0.16666666666666666, 'entropy = 0.0\\nsamples = 21\\nvalue = [0, 21, 0, 0, 0]'),\n",
       " Text(0.8, 0.5, 'entropy = 0.0\\nsamples = 437\\nvalue = [437, 0, 0, 0, 0]')]"
      ]
     },
     "execution_count": 55,
     "metadata": {},
     "output_type": "execute_result"
    },
    {
     "data": {
      "image/png": "[encoded data removed]",
      "text/plain": [
       "<Figure size 640x480 with 1 Axes>"
      ]
     },
     "metadata": {},
     "output_type": "display_data"
    }
   ],
   "source": [
    "tree.plot_tree(tree_clf)"
   ]
  },
  {
   "cell_type": "markdown",
   "id": "54cce3fc-ab66-46df-8999-e609e884c0d0",
   "metadata": {},
   "source": [
    "# 11-Prédiction sur l'ensemble de Test"
   ]
  },
  {
   "cell_type": "code",
   "execution_count": 65,
   "id": "525154cf-c51b-4cc6-9d2c-6538a1ea5332",
   "metadata": {},
   "outputs": [
    {
     "name": "stdout",
     "output_type": "stream",
     "text": [
      "Prédiction: Blood Donor | Réel: Blood Donor\n",
      "Prédiction: Blood Donor | Réel: Blood Donor\n",
      "Prédiction: Blood Donor | Réel: Blood Donor\n",
      "Prédiction: Cirrhosis | Réel: Cirrhosis\n",
      "Prédiction: Blood Donor | Réel: Blood Donor\n",
      "Prédiction: Cirrhosis | Réel: Cirrhosis\n",
      "Prédiction: Blood Donor | Réel: Blood Donor\n",
      "Prédiction: Blood Donor | Réel: Blood Donor\n",
      "Prédiction: Blood Donor | Réel: Blood Donor\n",
      "Prédiction: Blood Donor | Réel: Blood Donor\n",
      "Prédiction: Blood Donor | Réel: Blood Donor\n",
      "Prédiction: Blood Donor | Réel: Blood Donor\n",
      "Prédiction: Blood Donor | Réel: Blood Donor\n",
      "Prédiction: Blood Donor | Réel: Blood Donor\n",
      "Prédiction: Blood Donor | Réel: Blood Donor\n",
      "Prédiction: Blood Donor | Réel: Blood Donor\n",
      "Prédiction: Blood Donor | Réel: Blood Donor\n",
      "Prédiction: Blood Donor | Réel: Blood Donor\n",
      "Prédiction: Blood Donor | Réel: Blood Donor\n",
      "Prédiction: Fibrosis | Réel: Hepatitis\n",
      "Prédiction: Blood Donor | Réel: Blood Donor\n",
      "Prédiction: Blood Donor | Réel: Blood Donor\n",
      "Prédiction: Cirrhosis | Réel: Cirrhosis\n",
      "Prédiction: Blood Donor | Réel: Blood Donor\n",
      "Prédiction: Fibrosis | Réel: Hepatitis\n",
      "Prédiction: Blood Donor | Réel: Blood Donor\n",
      "Prédiction: Blood Donor | Réel: Blood Donor\n",
      "Prédiction: Blood Donor | Réel: Blood Donor\n",
      "Prédiction: Blood Donor | Réel: Blood Donor\n",
      "Prédiction: Cirrhosis | Réel: Cirrhosis\n",
      "Prédiction: Blood Donor | Réel: Blood Donor\n",
      "Prédiction: Blood Donor | Réel: Blood Donor\n",
      "Prédiction: Blood Donor | Réel: Blood Donor\n",
      "Prédiction: Blood Donor | Réel: Blood Donor\n",
      "Prédiction: Blood Donor | Réel: Blood Donor\n",
      "Prédiction: Blood Donor | Réel: Blood Donor\n",
      "Prédiction: Blood Donor | Réel: Blood Donor\n",
      "Prédiction: Cirrhosis | Réel: Cirrhosis\n",
      "Prédiction: Blood Donor | Réel: Blood Donor\n",
      "Prédiction: Blood Donor | Réel: Blood Donor\n",
      "Prédiction: Blood Donor | Réel: Blood Donor\n",
      "Prédiction: Blood Donor | Réel: Blood Donor\n",
      "Prédiction: Blood Donor | Réel: Blood Donor\n",
      "Prédiction: Blood Donor | Réel: Blood Donor\n",
      "Prédiction: Blood Donor | Réel: Blood Donor\n",
      "Prédiction: Fibrosis | Réel: Hepatitis\n",
      "Prédiction: Blood Donor | Réel: Blood Donor\n",
      "Prédiction: Fibrosis | Réel: Fibrosis\n",
      "Prédiction: Blood Donor | Réel: Blood Donor\n",
      "Prédiction: Fibrosis | Réel: Hepatitis\n",
      "Prédiction: Blood Donor | Réel: Blood Donor\n",
      "Prédiction: Blood Donor | Réel: Blood Donor\n",
      "Prédiction: Blood Donor | Réel: Blood Donor\n",
      "Prédiction: Fibrosis | Réel: suspect Blood Donor\n",
      "Prédiction: Blood Donor | Réel: Blood Donor\n",
      "Prédiction: Blood Donor | Réel: Blood Donor\n",
      "Prédiction: Blood Donor | Réel: Blood Donor\n",
      "Prédiction: Blood Donor | Réel: Blood Donor\n",
      "Prédiction: Cirrhosis | Réel: Cirrhosis\n",
      "Prédiction: Cirrhosis | Réel: Cirrhosis\n",
      "Prédiction: Fibrosis | Réel: suspect Blood Donor\n",
      "Prédiction: Blood Donor | Réel: Blood Donor\n",
      "Prédiction: Blood Donor | Réel: Blood Donor\n",
      "Prédiction: Fibrosis | Réel: Fibrosis\n",
      "Prédiction: Blood Donor | Réel: Blood Donor\n",
      "Prédiction: Fibrosis | Réel: Fibrosis\n",
      "Prédiction: Blood Donor | Réel: Blood Donor\n",
      "Prédiction: Blood Donor | Réel: Blood Donor\n",
      "Prédiction: Blood Donor | Réel: Blood Donor\n",
      "Prédiction: Blood Donor | Réel: Blood Donor\n",
      "Prédiction: Fibrosis | Réel: Hepatitis\n",
      "Prédiction: Blood Donor | Réel: Blood Donor\n",
      "Prédiction: Blood Donor | Réel: Blood Donor\n",
      "Prédiction: Blood Donor | Réel: Blood Donor\n",
      "Prédiction: Blood Donor | Réel: Blood Donor\n",
      "Prédiction: Blood Donor | Réel: Blood Donor\n",
      "Prédiction: Blood Donor | Réel: Blood Donor\n",
      "Prédiction: Blood Donor | Réel: Blood Donor\n",
      "Prédiction: Blood Donor | Réel: Blood Donor\n",
      "Prédiction: Blood Donor | Réel: Blood Donor\n",
      "Prédiction: Blood Donor | Réel: Blood Donor\n",
      "Prédiction: Blood Donor | Réel: Blood Donor\n",
      "Prédiction: Fibrosis | Réel: Fibrosis\n",
      "Prédiction: Fibrosis | Réel: Fibrosis\n",
      "Prédiction: Blood Donor | Réel: Blood Donor\n",
      "Prédiction: Blood Donor | Réel: Blood Donor\n",
      "Prédiction: Blood Donor | Réel: Blood Donor\n",
      "Prédiction: Blood Donor | Réel: Blood Donor\n",
      "Prédiction: Blood Donor | Réel: Blood Donor\n",
      "Prédiction: Cirrhosis | Réel: Cirrhosis\n",
      "Prédiction: Blood Donor | Réel: Blood Donor\n",
      "Prédiction: Blood Donor | Réel: Blood Donor\n",
      "Prédiction: Blood Donor | Réel: Blood Donor\n",
      "Prédiction: Blood Donor | Réel: Blood Donor\n",
      "Prédiction: Fibrosis | Réel: suspect Blood Donor\n",
      "Prédiction: Blood Donor | Réel: Blood Donor\n",
      "Prédiction: Cirrhosis | Réel: Cirrhosis\n",
      "Prédiction: Blood Donor | Réel: Blood Donor\n",
      "Prédiction: Blood Donor | Réel: Blood Donor\n",
      "Prédiction: Blood Donor | Réel: Blood Donor\n",
      "Prédiction: Blood Donor | Réel: Blood Donor\n",
      "Prédiction: Blood Donor | Réel: Blood Donor\n",
      "Prédiction: Fibrosis | Réel: Hepatitis\n",
      "Prédiction: Fibrosis | Réel: Hepatitis\n",
      "Prédiction: Blood Donor | Réel: Blood Donor\n",
      "Prédiction: Fibrosis | Réel: Hepatitis\n",
      "Prédiction: Blood Donor | Réel: Blood Donor\n",
      "Prédiction: Blood Donor | Réel: Blood Donor\n",
      "Prédiction: Blood Donor | Réel: Blood Donor\n",
      "Prédiction: Blood Donor | Réel: Blood Donor\n",
      "Prédiction: Blood Donor | Réel: Blood Donor\n",
      "Prédiction: Blood Donor | Réel: Blood Donor\n",
      "Prédiction: Blood Donor | Réel: Blood Donor\n",
      "Prédiction: Fibrosis | Réel: Fibrosis\n",
      "Prédiction: Blood Donor | Réel: Blood Donor\n",
      "Prédiction: Fibrosis | Réel: Hepatitis\n",
      "Prédiction: Blood Donor | Réel: Blood Donor\n",
      "Prédiction: Blood Donor | Réel: Blood Donor\n",
      "Prédiction: Blood Donor | Réel: Blood Donor\n",
      "Prédiction: Blood Donor | Réel: Blood Donor\n",
      "Prédiction: Blood Donor | Réel: Blood Donor\n",
      "Prédiction: Blood Donor | Réel: Blood Donor\n",
      "Prédiction: Blood Donor | Réel: Blood Donor\n"
     ]
    }
   ],
   "source": [
    "# Prédire l'ensemble de test\n",
    "X_test.columns = X_test.columns.astype(str)\n",
    "y_pred = tree_clf.predict(X_test)\n",
    "# Comparaison entre la Prédiction et le résultat réel sur l'ensemble de test\n",
    "for prediction, actual in zip(y_pred, y_test):\n",
    "    print(\"Prédiction:\", prediction, \"| Réel:\", actual)\n"
   ]
  },
  {
   "cell_type": "markdown",
   "id": "61d143c4-871f-40f5-bb81-532143f51140",
   "metadata": {},
   "source": [
    "# 12-Accuracy de modele"
   ]
  },
  {
   "cell_type": "code",
   "execution_count": 71,
   "id": "a9eb9d61-a96b-4702-a3e0-f1771624eb18",
   "metadata": {},
   "outputs": [
    {
     "data": {
      "text/plain": [
       "0.9024390243902439"
      ]
     },
     "execution_count": 71,
     "metadata": {},
     "output_type": "execute_result"
    }
   ],
   "source": [
    "# la précision du modele\n",
    "accuracy = accuracy_score(y_test, y_pred)\n",
    "accuracy"
   ]
  },
  {
   "cell_type": "markdown",
   "id": "30356ac1-2ebe-41a7-aed9-19a7013463dd",
   "metadata": {},
   "source": [
    "# 13-La validation croisée"
   ]
  },
  {
   "cell_type": "code",
   "execution_count": 89,
   "id": "f3c2904a-10ce-4be1-b631-2c9d493df465",
   "metadata": {},
   "outputs": [
    {
     "name": "stdout",
     "output_type": "stream",
     "text": [
      "Scores de validation croisée: [1.         1.         0.98373984 1.        ]\n",
      "Moyenne des scores de validation croisée: 0.9959349593495935\n"
     ]
    }
   ],
   "source": [
    "# la validation croisée\n",
    "scores = cross_val_score(tree_clf, X_train, y_train, cv=4)  # cv = nombre de plis\n",
    "# l'affichage des scores\n",
    "print(\"Scores de validation croisée:\", scores)\n",
    "# la moyenne des scores\n",
    "mean_score = scores.mean()\n",
    "print(\"Moyenne des scores de validation croisée:\", mean_score)"
   ]
  },
  {
   "cell_type": "markdown",
   "id": "b6d888bb-0221-45bc-baa7-c3aeeaa0dae7",
   "metadata": {},
   "source": [
    "# 14-les meilleurs paramètres pour le modèle"
   ]
  },
  {
   "cell_type": "markdown",
   "id": "53ea5462-6709-4a2e-928d-37aa607abe1c",
   "metadata": {},
   "source": [
    "##### pour extraire les meilleurs parametres de modele on va utiliser GridSearchCV qui recherche les meilleures combinaisons d'hyperparamètres en testant chaque combinaison à l'aide de la validation croisée. Il sélectionne ensuite les hyperparamètres offrant les meilleures performances pour le modèle."
   ]
  },
  {
   "cell_type": "code",
   "execution_count": 84,
   "id": "54231c75-0318-4448-859d-cc4d3aa3a6f6",
   "metadata": {},
   "outputs": [
    {
     "name": "stdout",
     "output_type": "stream",
     "text": [
      "Meilleurs paramètres : {'max_depth': 10, 'min_samples_leaf': 1, 'min_samples_split': 2}\n",
      "Précision sur l'ensemble de test : 0.991869918699187\n"
     ]
    }
   ],
   "source": [
    "# On definit les hyperparamètres à tester\n",
    "param_grid = {\n",
    "    'max_depth': [2, 3, 10], # la profondeur maximale de l'arbre de décision\n",
    "    'min_samples_split': [2, 5, 10], # le nombre minimum d'échantillons requis pour diviser un nœud interne de l'arbre\n",
    "    'min_samples_leaf': [1, 2, 4] # le nombre minimum d'échantillons requis pour être au niveau d'une feuille \n",
    "}\n",
    "\n",
    "# On Crée l'instance de modèle\n",
    "tree_clf = DecisionTreeClassifier()\n",
    "\n",
    "# Recherche des meilleurs paramètres en utilisant GridSearchCV\n",
    "grid_search = GridSearchCV(tree_clf, param_grid, cv=4, scoring='accuracy')\n",
    "grid_search.fit(X_train, y_train)\n",
    "\n",
    "# l'affichage des meilleurs paramètres \n",
    "print(\"Meilleurs paramètres :\", grid_search.best_params_)\n",
    "\n",
    "# On utilise le meilleur modèle trouvé pour prédire sur l'ensemble de test\n",
    "best_model = grid_search.best_estimator_\n",
    "y_pred = best_model.predict(X_test)\n",
    "\n",
    "# l'affichage de l'accuracy sur l'ensemble de test\n",
    "accuracy = accuracy_score(y_test, y_pred)\n",
    "print(\"Précision sur l'ensemble de test :\", accuracy)"
   ]
  },
  {
   "cell_type": "markdown",
   "id": "dd015432-5de1-474e-9425-b6190e1a9daf",
   "metadata": {},
   "source": [
    "# 15-Conclusion"
   ]
  },
  {
   "cell_type": "code",
   "execution_count": null,
   "id": "62614a15-292e-4625-a775-a12a60cda09a",
   "metadata": {},
   "outputs": [],
   "source": []
  },
  {
   "cell_type": "markdown",
   "id": "582e1c7e-f1cc-452b-8e24-beeba960ac52",
   "metadata": {},
   "source": [
    "# 16-l'Algorithme de Random Forest"
   ]
  },
  {
   "cell_type": "code",
   "execution_count": 88,
   "id": "310a635d-b78f-4870-a28e-1fa2bdfb2179",
   "metadata": {},
   "outputs": [
    {
     "name": "stdout",
     "output_type": "stream",
     "text": [
      "Précision sur l'ensemble de test : 0.991869918699187\n"
     ]
    }
   ],
   "source": [
    "rf_clf = RandomForestClassifier(n_estimators=100, max_depth=10, random_state=42)\n",
    "\n",
    "# l'entraînement de modèle sur l'ensemble \n",
    "rf_clf.fit(X_train, y_train)"
   ]
  },
  {
   "cell_type": "markdown",
   "id": "146a90dd-36da-47ed-802d-127f81f24b09",
   "metadata": {},
   "source": [
    "# 17- Prédiction sur l'ensemble de Test\n"
   ]
  },
  {
   "cell_type": "code",
   "execution_count": null,
   "id": "ef213ea6-3ffc-4f8f-b5cb-283c7bca75bc",
   "metadata": {},
   "outputs": [],
   "source": [
    "# Prédiction des étiquettes de l'ensemble de test\n",
    "y_pred = model.predict(X_test)"
   ]
  },
  {
   "cell_type": "markdown",
   "id": "913fa1b1-a2da-46a2-b2a3-c9bf367008d5",
   "metadata": {},
   "source": [
    "# 18-Précision de modèle"
   ]
  },
  {
   "cell_type": "code",
   "execution_count": 90,
   "id": "113713e8-35ae-4582-98d7-c0b858379359",
   "metadata": {},
   "outputs": [
    {
     "name": "stdout",
     "output_type": "stream",
     "text": [
      "Précision du modèle sur l'ensemble de test : 0.991869918699187\n"
     ]
    }
   ],
   "source": [
    "# on calcule l'accuracy de modéle\n",
    "accuracy = accuracy_score(y_test, y_pred)\n",
    "print(\"Précision du modèle sur l'ensemble de test :\", accuracy)"
   ]
  },
  {
   "cell_type": "markdown",
   "id": "14d2a336-24be-4d0d-a8bf-79600f8553aa",
   "metadata": {},
   "source": [
    "# 19-Comparaison des deux modéles"
   ]
  },
  {
   "cell_type": "markdown",
   "id": "544ab262-d211-43a2-8b8f-5914dad8f7cb",
   "metadata": {},
   "source": [
    "##### Lorsque on a utilisé l'arbre de décision, nous avons obtenu une précision de 0.9024390243902439 sur l'ensemble de test. Cependant, lorsque on a utilisé le Random Forest, on a obtenu un résultat de 0.991869918699187. Cela est dû au fait que le Random Forest est un ensemble d'arbres de décision, ce qui lui permet de capturer des relations plus complexes dans les données par rapport à un seul arbre de décision."
   ]
  },
  {
   "cell_type": "markdown",
   "id": "516d5c96-f9b0-4be8-90ed-2a0168945a24",
   "metadata": {},
   "source": [
    "# 20-Les importances des attributs"
   ]
  },
  {
   "cell_type": "code",
   "execution_count": 94,
   "id": "828ef670-ce09-4fac-8f2b-44a941aa3971",
   "metadata": {},
   "outputs": [
    {
     "name": "stdout",
     "output_type": "stream",
     "text": [
      "Age: 0.01697225777477743\n",
      "Sex: 0.001291540662210644\n",
      "ALB: 0.03779367379122478\n",
      "ALP: 0.021884171507902166\n",
      "ALT: 0.026499959080651062\n",
      "AST: 0.10141309828748338\n",
      "BIL: 0.02380138589594057\n",
      "CHE: 0.04275828925312899\n",
      "CHOL: 0.014223808741060556\n",
      "CREA: 0.009219962855613705\n",
      "GGT: 0.016872488320376217\n",
      "PROT: 0.015536469785316736\n",
      "0: 0.3289738980414491\n",
      "1: 0.12690452222223572\n",
      "2: 0.09682298831051148\n",
      "3: 0.10607415950388728\n",
      "4: 0.012957325966230239\n"
     ]
    }
   ],
   "source": [
    "\n",
    "importances = rf_clf.feature_importances_\n",
    "\n",
    "# Maintenant, vous pouvez associer ces importances à leurs noms d'attributs correspondants\n",
    "colonnes = X.columns  # Supposons que X contient vos données avec les noms d'attributs appropriés\n",
    "\n",
    "# Afficher les importances des attributs\n",
    "for name, importance in zip(colonnes, importances):\n",
    "    print(f\"{name}: {importance}\")"
   ]
  },
  {
   "cell_type": "markdown",
   "id": "808d040e-4514-4211-9ae1-a1eb33f71217",
   "metadata": {},
   "source": [
    "# 21-Séparation des données d’entrainement en un ensemble de validation et un ensemble d’entrainement"
   ]
  },
  {
   "cell_type": "code",
   "execution_count": 97,
   "id": "ef6d8c09-f460-4d0a-9fee-dc7589a25de0",
   "metadata": {},
   "outputs": [],
   "source": [
    "# On divise l'ensemble d'entrainement en ensembles d'entrainement et de validation\n",
    "X_train, X_valid, y_train, y_valid = train_test_split(X_train, y_train, test_size=0.2, random_state=42)"
   ]
  },
  {
   "cell_type": "markdown",
   "id": "3a3be3e3-f023-4d10-9655-45b171005f4a",
   "metadata": {},
   "source": [
    "# 22-Réseau de Neurones"
   ]
  },
  {
   "cell_type": "code",
   "execution_count": 116,
   "id": "ad805170-ed3c-4e31-9799-bcd10f43a3b2",
   "metadata": {},
   "outputs": [
    {
     "name": "stdout",
     "output_type": "stream",
     "text": [
      "Epoch 1/10\n"
     ]
    },
    {
     "name": "stderr",
     "output_type": "stream",
     "text": [
      "C:\\ProgramData\\anaconda3\\envs\\New_env\\Lib\\site-packages\\keras\\src\\layers\\core\\dense.py:87: UserWarning: Do not pass an `input_shape`/`input_dim` argument to a layer. When using Sequential models, prefer using an `Input(shape)` object as the first layer in the model instead.\n",
      "  super().__init__(activity_regularizer=activity_regularizer, **kwargs)\n"
     ]
    },
    {
     "ename": "ValueError",
     "evalue": "Exception encountered when calling Sequential.call().\n\n\u001b[1mInput 0 of layer \"dense_5\" is incompatible with the layer: expected axis -1 of input shape to have value 5, but received input with shape (None, 17)\u001b[0m\n\nArguments received by Sequential.call():\n  • inputs=tf.Tensor(shape=(None, 17), dtype=float32)\n  • training=True\n  • mask=None",
     "output_type": "error",
     "traceback": [
      "\u001b[1;31m---------------------------------------------------------------------------\u001b[0m",
      "\u001b[1;31mValueError\u001b[0m                                Traceback (most recent call last)",
      "Cell \u001b[1;32mIn[116], line 20\u001b[0m\n\u001b[0;32m     15\u001b[0m model\u001b[38;5;241m.\u001b[39mcompile(optimizer\u001b[38;5;241m=\u001b[39m\u001b[38;5;124m'\u001b[39m\u001b[38;5;124madam\u001b[39m\u001b[38;5;124m'\u001b[39m,\n\u001b[0;32m     16\u001b[0m               loss\u001b[38;5;241m=\u001b[39m\u001b[38;5;124m'\u001b[39m\u001b[38;5;124msparse_categorical_crossentropy\u001b[39m\u001b[38;5;124m'\u001b[39m,\n\u001b[0;32m     17\u001b[0m               metrics\u001b[38;5;241m=\u001b[39m[\u001b[38;5;124m'\u001b[39m\u001b[38;5;124maccuracy\u001b[39m\u001b[38;5;124m'\u001b[39m])\n\u001b[0;32m     19\u001b[0m \u001b[38;5;66;03m# Entraîner le modèle\u001b[39;00m\n\u001b[1;32m---> 20\u001b[0m history \u001b[38;5;241m=\u001b[39m model\u001b[38;5;241m.\u001b[39mfit(X_train, y_train, epochs\u001b[38;5;241m=\u001b[39m\u001b[38;5;241m10\u001b[39m, validation_data\u001b[38;5;241m=\u001b[39m(X_valid, y_valid))\n\u001b[0;32m     22\u001b[0m \u001b[38;5;66;03m# Évaluer le modèle\u001b[39;00m\n\u001b[0;32m     23\u001b[0m test_loss, test_acc \u001b[38;5;241m=\u001b[39m model\u001b[38;5;241m.\u001b[39mevaluate(X_test, y_test)\n",
      "File \u001b[1;32mC:\\ProgramData\\anaconda3\\envs\\New_env\\Lib\\site-packages\\keras\\src\\utils\\traceback_utils.py:122\u001b[0m, in \u001b[0;36mfilter_traceback.<locals>.error_handler\u001b[1;34m(*args, **kwargs)\u001b[0m\n\u001b[0;32m    119\u001b[0m     filtered_tb \u001b[38;5;241m=\u001b[39m _process_traceback_frames(e\u001b[38;5;241m.\u001b[39m__traceback__)\n\u001b[0;32m    120\u001b[0m     \u001b[38;5;66;03m# To get the full stack trace, call:\u001b[39;00m\n\u001b[0;32m    121\u001b[0m     \u001b[38;5;66;03m# `keras.config.disable_traceback_filtering()`\u001b[39;00m\n\u001b[1;32m--> 122\u001b[0m     \u001b[38;5;28;01mraise\u001b[39;00m e\u001b[38;5;241m.\u001b[39mwith_traceback(filtered_tb) \u001b[38;5;28;01mfrom\u001b[39;00m \u001b[38;5;28;01mNone\u001b[39;00m\n\u001b[0;32m    123\u001b[0m \u001b[38;5;28;01mfinally\u001b[39;00m:\n\u001b[0;32m    124\u001b[0m     \u001b[38;5;28;01mdel\u001b[39;00m filtered_tb\n",
      "File \u001b[1;32mC:\\ProgramData\\anaconda3\\envs\\New_env\\Lib\\site-packages\\keras\\src\\layers\\input_spec.py:227\u001b[0m, in \u001b[0;36massert_input_compatibility\u001b[1;34m(input_spec, inputs, layer_name)\u001b[0m\n\u001b[0;32m    222\u001b[0m     \u001b[38;5;28;01mfor\u001b[39;00m axis, value \u001b[38;5;129;01min\u001b[39;00m spec\u001b[38;5;241m.\u001b[39maxes\u001b[38;5;241m.\u001b[39mitems():\n\u001b[0;32m    223\u001b[0m         \u001b[38;5;28;01mif\u001b[39;00m value \u001b[38;5;129;01mis\u001b[39;00m \u001b[38;5;129;01mnot\u001b[39;00m \u001b[38;5;28;01mNone\u001b[39;00m \u001b[38;5;129;01mand\u001b[39;00m shape[axis] \u001b[38;5;129;01mnot\u001b[39;00m \u001b[38;5;129;01min\u001b[39;00m {\n\u001b[0;32m    224\u001b[0m             value,\n\u001b[0;32m    225\u001b[0m             \u001b[38;5;28;01mNone\u001b[39;00m,\n\u001b[0;32m    226\u001b[0m         }:\n\u001b[1;32m--> 227\u001b[0m             \u001b[38;5;28;01mraise\u001b[39;00m \u001b[38;5;167;01mValueError\u001b[39;00m(\n\u001b[0;32m    228\u001b[0m                 \u001b[38;5;124mf\u001b[39m\u001b[38;5;124m'\u001b[39m\u001b[38;5;124mInput \u001b[39m\u001b[38;5;132;01m{\u001b[39;00minput_index\u001b[38;5;132;01m}\u001b[39;00m\u001b[38;5;124m of layer \u001b[39m\u001b[38;5;124m\"\u001b[39m\u001b[38;5;132;01m{\u001b[39;00mlayer_name\u001b[38;5;132;01m}\u001b[39;00m\u001b[38;5;124m\"\u001b[39m\u001b[38;5;124m is \u001b[39m\u001b[38;5;124m'\u001b[39m\n\u001b[0;32m    229\u001b[0m                 \u001b[38;5;124mf\u001b[39m\u001b[38;5;124m\"\u001b[39m\u001b[38;5;124mincompatible with the layer: expected axis \u001b[39m\u001b[38;5;132;01m{\u001b[39;00maxis\u001b[38;5;132;01m}\u001b[39;00m\u001b[38;5;124m \u001b[39m\u001b[38;5;124m\"\u001b[39m\n\u001b[0;32m    230\u001b[0m                 \u001b[38;5;124mf\u001b[39m\u001b[38;5;124m\"\u001b[39m\u001b[38;5;124mof input shape to have value \u001b[39m\u001b[38;5;132;01m{\u001b[39;00mvalue\u001b[38;5;132;01m}\u001b[39;00m\u001b[38;5;124m, \u001b[39m\u001b[38;5;124m\"\u001b[39m\n\u001b[0;32m    231\u001b[0m                 \u001b[38;5;124m\"\u001b[39m\u001b[38;5;124mbut received input with \u001b[39m\u001b[38;5;124m\"\u001b[39m\n\u001b[0;32m    232\u001b[0m                 \u001b[38;5;124mf\u001b[39m\u001b[38;5;124m\"\u001b[39m\u001b[38;5;124mshape \u001b[39m\u001b[38;5;132;01m{\u001b[39;00mshape\u001b[38;5;132;01m}\u001b[39;00m\u001b[38;5;124m\"\u001b[39m\n\u001b[0;32m    233\u001b[0m             )\n\u001b[0;32m    234\u001b[0m \u001b[38;5;66;03m# Check shape.\u001b[39;00m\n\u001b[0;32m    235\u001b[0m \u001b[38;5;28;01mif\u001b[39;00m spec\u001b[38;5;241m.\u001b[39mshape \u001b[38;5;129;01mis\u001b[39;00m \u001b[38;5;129;01mnot\u001b[39;00m \u001b[38;5;28;01mNone\u001b[39;00m:\n",
      "\u001b[1;31mValueError\u001b[0m: Exception encountered when calling Sequential.call().\n\n\u001b[1mInput 0 of layer \"dense_5\" is incompatible with the layer: expected axis -1 of input shape to have value 5, but received input with shape (None, 17)\u001b[0m\n\nArguments received by Sequential.call():\n  • inputs=tf.Tensor(shape=(None, 17), dtype=float32)\n  • training=True\n  • mask=None"
     ]
    }
   ],
   "source": [
    "\"\"\"\n",
    "import tensorflow as tf\n",
    "from tensorflow.keras import Sequential\n",
    "from tensorflow.keras.layers import Dense\n",
    "\n",
    "# Définir input_shape en fonction des caractéristiques de vos données d'entrée\n",
    "input_shape = (5,)  # Par exemple, si vos données ont 10 caractéristiques\n",
    "\n",
    "# Créer un modèle séquentiel\n",
    "model = Sequential([\n",
    "    Dense(64, activation='relu', input_shape=input_shape),\n",
    "    Dense(10, activation='softmax')\n",
    "])\n",
    "\n",
    "# Compiler le modèle\n",
    "model.compile(optimizer='adam',\n",
    "              loss='sparse_categorical_crossentropy',\n",
    "              metrics=['accuracy'])\n",
    "\n",
    "# Entraîner le modèle\n",
    "history = model.fit(X_train, y_train, epochs=10, validation_data=(X_valid, y_valid))\n",
    "\n",
    "# Évaluer le modèle\n",
    "test_loss, test_acc = model.evaluate(X_test, y_test)\n",
    "\"\"\""
   ]
  },
  {
   "cell_type": "code",
   "execution_count": null,
   "id": "cc647045-fda6-4173-8595-3d7dc6ca288f",
   "metadata": {},
   "outputs": [],
   "source": []
  }
 ],
 "metadata": {
  "kernelspec": {
   "display_name": "Python 3 (ipykernel)",
   "language": "python",
   "name": "python3"
  },
  "language_info": {
   "codemirror_mode": {
    "name": "ipython",
    "version": 3
   },
   "file_extension": ".py",
   "mimetype": "text/x-python",
   "name": "python",
   "nbconvert_exporter": "python",
   "pygments_lexer": "ipython3",
   "version": "3.11.8"
  }
 },
 "nbformat": 4,
 "nbformat_minor": 5
}
